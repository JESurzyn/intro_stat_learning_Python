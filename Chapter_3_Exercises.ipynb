{
 "cells": [
  {
   "cell_type": "markdown",
   "metadata": {},
   "source": [
    "# 3.7 Exercises"
   ]
  },
  {
   "cell_type": "markdown",
   "metadata": {},
   "source": [
    "### Conceptual"
   ]
  },
  {
   "cell_type": "markdown",
   "metadata": {},
   "source": [
    "1.  \n",
    "Reviewing TV's p-value  \n",
    "$H_0:$ TV advertising units sold does not have a relationship with Sales...  \n",
    "and so on and so forth for radio and newspaper\n",
    "\n",
    "Given that the p-value for TV and radio is less than 0.05, we can reject the null hypothesis that there is no relationship\n",
    "\n",
    "Given that the p-value for newspaper is greater than our alpha 0.05, we cannot reject the null and we state that there is no statistical evidence that newspaper ad units sold has a relationship with Sales"
   ]
  },
  {
   "cell_type": "markdown",
   "metadata": {},
   "source": [
    "2.  KNN regression takes that K nearest neighbors values and averages them to estimate f(x)\n",
    "KNN classifier works similarly in that it works to make its estimate from the set $N_0$ consisting of K nearest neighbors.  The estimate in this case howerver, it estimating the conditional probability for class j as a fraction of the points in $N_0$.  It then applies Bayes rule and classifies the test observation $x_0$ to the class with the largest probability"
   ]
  },
  {
   "cell_type": "markdown",
   "metadata": {},
   "source": [
    "3. \n",
    "X1:Gpa  \n",
    "X2: IQ  \n",
    "X3: Gender (1=female; 0=male)  \n",
    "Y = starting salary after graduation\n",
    "\n",
    "$\\hat{Y} = 50 + 20X_1 + 0.07X_2 + 35X_3 + 0.01X_1X_2 - 10X_1X_3$  \n"
   ]
  },
  {
   "cell_type": "markdown",
   "metadata": {},
   "source": [
    "3ai. false\n",
    "3aii. True\n",
    "3aiii. "
   ]
  },
  {
   "cell_type": "code",
   "execution_count": null,
   "metadata": {},
   "outputs": [],
   "source": []
  }
 ],
 "metadata": {
  "kernelspec": {
   "display_name": "Python 3",
   "language": "python",
   "name": "python3"
  },
  "language_info": {
   "codemirror_mode": {
    "name": "ipython",
    "version": 3
   },
   "file_extension": ".py",
   "mimetype": "text/x-python",
   "name": "python",
   "nbconvert_exporter": "python",
   "pygments_lexer": "ipython3",
   "version": "3.8.5"
  }
 },
 "nbformat": 4,
 "nbformat_minor": 4
}
